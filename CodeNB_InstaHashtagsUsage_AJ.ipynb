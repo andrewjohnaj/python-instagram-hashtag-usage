{
 "cells": [
  {
   "cell_type": "markdown",
   "id": "compatible-force",
   "metadata": {},
   "source": [
    "# instagram-hashtag-usage\n",
    "### Author: Andrew John (https://github.com/andrewjohnaj/)\n",
    "\n",
    "This is a simple, beginner-friendly, web-browser automation code that helps you find out how many Instagram posts use specific hashtags. Unlike many tools, it does not require the Instagram API, which can be difficult to connect and has usage restrictions. All you need is Python and Jupyter to get started. This tool helps content creators and social media managers optimize their hashtag strategy by identifying trending and niche hashtags."
   ]
  },
  {
   "cell_type": "code",
   "execution_count": 13,
   "id": "exciting-thread",
   "metadata": {},
   "outputs": [],
   "source": [
    "import time\n",
    "import pandas as pd\n",
    "from selenium import webdriver\n",
    "from selenium.webdriver.common.by import By\n",
    "from selenium.webdriver.common.keys import Keys\n",
    "from selenium.webdriver.chrome.service import Service\n",
    "from webdriver_manager.chrome import ChromeDriverManager\n",
    "import numpy as np\n",
    "from selenium.webdriver.support import expected_conditions as EC\n",
    "from selenium.webdriver.support.ui import WebDriverWait\n",
    "from selenium.common.exceptions import TimeoutException\n",
    "from datetime import date, timedelta\n",
    "from selenium.common.exceptions import NoSuchElementException"
   ]
  },
  {
   "cell_type": "code",
   "execution_count": 14,
   "id": "emerging-barrel",
   "metadata": {},
   "outputs": [],
   "source": [
    "#Set up the Chrome WebDriver\n",
    "driver = webdriver.Chrome(service=Service(ChromeDriverManager().install()))\n",
    "\n",
    "# Open the Instagram search page\n",
    "driver.get(\"https://www.instagram.com/\")\n",
    "\n",
    "#Define a wait object\n",
    "wait = WebDriverWait(driver, 10)"
   ]
  },
  {
   "attachments": {
    "image.png": {
     "image/png": "[encoded data removed]"
    }
   },
   "cell_type": "markdown",
   "id": "recreational-sculpture",
   "metadata": {},
   "source": [
    "### Go to the automation browser and enter your Instagram credentials, click on the search icon to open the search bar like so -\n",
    "\n",
    "![image.png](attachment:image.png)\n",
    "\n",
    "After selecting the search bar, come back to this notebook and execute the below cells"
   ]
  },
  {
   "cell_type": "code",
   "execution_count": 15,
   "id": "postal-corruption",
   "metadata": {},
   "outputs": [],
   "source": [
    "# Step 1: Load the txt file\n",
    "# Assuming the text file contains one hashtag per line\n",
    "file_path = 'hashtags_sample.txt'\n",
    "\n",
    "# Read the text file into a DataFrame\n",
    "# Since the file is a text file with one hashtag per line, we use 'read_csv' with 'delimiter' set to '\\n' (newline)\n",
    "df = pd.read_csv(file_path, header=None, delimiter='\\n', names=['Hashtag'])  # 'Hashtag' is the name for the column\n",
    "\n",
    "#Step 2: Add new columns for the results and the number of posts\n",
    "df['HasResults'] = ''\n",
    "df['NumPosts'] = ''\n",
    "\n",
    "#Step 3: Define a function to check the results for the corresponding hashtags\n",
    "    \n",
    "def check_results(hashtag): \n",
    "    try:\n",
    "        # Wait until the exact hashtag (without suffix) appears in the suggestions\n",
    "        suggestion = WebDriverWait(driver, 10).until(\n",
    "            EC.presence_of_element_located((By.XPATH, f\"//span[text()='{hashtag}']\"))\n",
    "        )\n",
    "        \n",
    "        # Click on the suggestion that matches the exact hashtag\n",
    "        suggestion.click()\n",
    "        \n",
    "        # Wait for 2 seconds to give time for the new page to load\n",
    "        time.sleep(2)\n",
    "        \n",
    "        # Wait for the number of posts element to appear\n",
    "        post_count_element = WebDriverWait(driver, 5).until(\n",
    "            EC.presence_of_element_located((By.XPATH, '/html/body/div[1]/div/div/div[2]/div/div/div[1]/div[1]/div[1]/section/main/header/div[2]/div/div[2]/div/span/span'))\n",
    "        )\n",
    "\n",
    "        # Extract the number of posts from the element\n",
    "        num_posts = post_count_element.text\n",
    "        return True, num_posts\n",
    "\n",
    "    except (TimeoutException, NoSuchElementException):\n",
    "        # If the hashtag is not found or no results, check for \"No results found\"\n",
    "        try:\n",
    "            no_results_present = WebDriverWait(driver, 5).until(\n",
    "                EC.presence_of_element_located((By.XPATH, '//*[contains(text(), \"No results found.\")]'))\n",
    "            )\n",
    "            return False, 0\n",
    "        except TimeoutException:\n",
    "            # If neither are found, return False\n",
    "            return False, 0"
   ]
  },
  {
   "cell_type": "code",
   "execution_count": 17,
   "id": "constitutional-specialist",
   "metadata": {
    "scrolled": true
   },
   "outputs": [
    {
     "name": "stdout",
     "output_type": "stream",
     "text": [
      "0 #photography True 1,107,686,862\n",
      "1 #dslrphotography True 1,107,686,862\n",
      "2 #phonephotography True 3,278,508\n",
      "3 #travelphotography True 9,578,988\n",
      "4 #mobilephotography True 249,422,262\n",
      "5 #wanderlust True 37,454,156\n",
      "6 #travelfreak True 155,594,858\n",
      "7 #streetphotography True 270,440\n",
      "8 #landscapephotography True 128,981,090\n",
      "9 #photoraphauckland False 0\n"
     ]
    }
   ],
   "source": [
    "# Step 4: Iterate through the hashtags in the DataFrame\n",
    "for index, row in df.iloc[:].iterrows():\n",
    "    hashtag = str(row['Hashtag']).replace('\\xa0', '').replace(' ', '').lower()  # Clean the hashtag\n",
    "\n",
    "    # Step 5: Enter the hashtag in the search bar\n",
    "    search_bar = wait.until(EC.presence_of_element_located((By.XPATH, '//input[@placeholder=\"Search\"]')))\n",
    "    search_bar.send_keys(hashtag)\n",
    "    time.sleep(3)  # Wait for suggestions to appear\n",
    "\n",
    "    # Step 6: Check if the hashtag appears and get the number of posts\n",
    "    has_results, num_posts = check_results(hashtag)\n",
    "    df.at[index, 'HasResults'] = has_results  # Record the presence of results\n",
    "    df.at[index, 'NumPosts'] = num_posts  # Record the number of posts\n",
    "\n",
    "    # Step 7: Clear the search bar using Ctrl+A and Delete\n",
    "    search_bar.send_keys(Keys.CONTROL + \"a\")\n",
    "    search_bar.send_keys(Keys.DELETE)\n",
    "    time.sleep(1)  # Wait a bit before the next iteration\n",
    "\n",
    "    # Save the updated DataFrame to the Excel file after each iteration\n",
    "    df.to_excel('hashtag_list_output.xlsx', index=False)\n",
    "    print(index, hashtag, has_results, num_posts)"
   ]
  },
  {
   "cell_type": "code",
   "execution_count": null,
   "id": "flying-senate",
   "metadata": {},
   "outputs": [],
   "source": []
  }
 ],
 "metadata": {
  "kernelspec": {
   "display_name": "Python 3",
   "language": "python",
   "name": "python3"
  },
  "language_info": {
   "codemirror_mode": {
    "name": "ipython",
    "version": 3
   },
   "file_extension": ".py",
   "mimetype": "text/x-python",
   "name": "python",
   "nbconvert_exporter": "python",
   "pygments_lexer": "ipython3",
   "version": "3.7.4"
  }
 },
 "nbformat": 4,
 "nbformat_minor": 5
}
